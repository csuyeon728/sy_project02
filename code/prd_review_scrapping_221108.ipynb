{
 "cells": [
  {
   "cell_type": "code",
   "execution_count": 1,
   "metadata": {},
   "outputs": [],
   "source": [
    "from selenium import webdriver\n",
    "from selenium.webdriver.chrome.service import Service\n",
    "from webdriver_manager.chrome import ChromeDriverManager\n",
    "from selenium.webdriver.common.by import By\n",
    "from bs4 import BeautifulSoup as BS\n",
    "import pandas as pd\n",
    "from IPython.display import display\n",
    "import time\n",
    "import warnings\n",
    "from selenium.webdriver.common.keys import Keys\n",
    "import re"
   ]
  },
  {
   "cell_type": "markdown",
   "metadata": {},
   "source": [
    "### `cate`에 넣을 값\n",
    "\n",
    "- 김민지 : '화병·화분'\n",
    "- 김예원 : '벽시계'\n",
    "- 박유정 : '그림·사진'\n",
    "- 송나현 : '모빌·가랜드'\n",
    "- 이소현 : '장식소품'\n",
    "- 이지혜 : '액자'\n",
    "- 최수연 : '식물'"
   ]
  },
  {
   "cell_type": "code",
   "execution_count": 2,
   "metadata": {},
   "outputs": [],
   "source": [
    "cate = '식물' ### 위의 값 넣기\n",
    "xpath = '/html/body/div[1]/div/div/div[2]/div/div/div[2]/div[4]/div'\n",
    "class_name = 'category-feed__content__item-wrap col-6 col-lg-4'"
   ]
  },
  {
   "cell_type": "code",
   "execution_count": 3,
   "metadata": {},
   "outputs": [],
   "source": [
    "url_dic = {'화병·화분'  : 'https://ohou.se/store/category?category=2_4_3',\n",
    "          '벽시계'      : 'https://ohou.se/store/category?category=2_1_0',\n",
    "          '그림·사진'   : 'https://ohou.se/store/category?category=2_2_4',\n",
    "          '모빌·가랜드'  : 'https://ohou.se/store/category?category=2_5_5',\n",
    "          '장식소품'    : 'https://ohou.se/store/category?category=2_5_1',\n",
    "          '액자'       : 'https://ohou.se/store/category?category=2_2_8',\n",
    "          '식물'       : 'https://ohou.se/store/category?category=2_4_0'}"
   ]
  },
  {
   "cell_type": "code",
   "execution_count": null,
   "metadata": {},
   "outputs": [],
   "source": []
  },
  {
   "cell_type": "code",
   "execution_count": 4,
   "metadata": {},
   "outputs": [
    {
     "name": "stderr",
     "output_type": "stream",
     "text": [
      "\n",
      "\n",
      "====== WebDriver manager ======\n",
      "Current google-chrome version is 107.0.5304\n",
      "Get LATEST chromedriver version for 107.0.5304 google-chrome\n",
      "Driver [C:\\Users\\suyeo\\.wdm\\drivers\\chromedriver\\win32\\107.0.5304.62\\chromedriver.exe] found in cache\n"
     ]
    }
   ],
   "source": [
    "# 사이트 오픈\n",
    "chrome_options = webdriver.ChromeOptions()\n",
    "driver = webdriver.Chrome(service=Service(ChromeDriverManager().install()), options=chrome_options)\n",
    "driver.implicitly_wait(2)\n",
    "driver.get(url_dic[cate])\n",
    "\n",
    "\n",
    "# 기본 12개 url 수집\n",
    "prd_area = driver.find_elements(By.CLASS_NAME,'production-item__overlay') # url 위치 선택\n",
    "prd_urls = [area.get_attribute('href').split('?')[0] for area in prd_area]\n",
    "\n",
    "\n",
    "# 스크롤 내리면서 나머지 url 수집\n",
    "while len(prd_urls) < 101:\n",
    "    driver.find_element(By.TAG_NAME, 'body').send_keys(Keys.PAGE_DOWN)\n",
    "    time.sleep(2)\n",
    "    new_urls = driver.find_elements(By.CLASS_NAME,'production-item__overlay') # 새로운 url 위치 선택    \n",
    "    for url in new_urls:\n",
    "        url_ = url.get_attribute('href').split('?')[0]\n",
    "        if url_ not in prd_urls:\n",
    "            prd_urls.append(url_)\n",
    "driver.close()\n",
    "prd_urls = prd_urls[:100]"
   ]
  },
  {
   "cell_type": "code",
   "execution_count": null,
   "metadata": {},
   "outputs": [],
   "source": []
  },
  {
   "cell_type": "markdown",
   "metadata": {},
   "source": [
    "---------------- 끊긴 경우 아래만 다시 돌리기 ----------------"
   ]
  },
  {
   "cell_type": "code",
   "execution_count": null,
   "metadata": {},
   "outputs": [],
   "source": []
  },
  {
   "cell_type": "code",
   "execution_count": 5,
   "metadata": {},
   "outputs": [],
   "source": [
    "# 저장된 다음 번호부터 시작. 맨 처음엔 0으로!\n",
    "start = 0"
   ]
  },
  {
   "cell_type": "code",
   "execution_count": 7,
   "metadata": {},
   "outputs": [
    {
     "data": {
      "text/html": [
       "<div>\n",
       "<style scoped>\n",
       "    .dataframe tbody tr th:only-of-type {\n",
       "        vertical-align: middle;\n",
       "    }\n",
       "\n",
       "    .dataframe tbody tr th {\n",
       "        vertical-align: top;\n",
       "    }\n",
       "\n",
       "    .dataframe thead th {\n",
       "        text-align: right;\n",
       "    }\n",
       "</style>\n",
       "<table border=\"1\" class=\"dataframe\">\n",
       "  <thead>\n",
       "    <tr style=\"text-align: right;\">\n",
       "      <th></th>\n",
       "      <th>카테고리</th>\n",
       "      <th>상품url</th>\n",
       "      <th>상품명</th>\n",
       "      <th>별점</th>\n",
       "      <th>리뷰</th>\n",
       "    </tr>\n",
       "  </thead>\n",
       "  <tbody>\n",
       "  </tbody>\n",
       "</table>\n",
       "</div>"
      ],
      "text/plain": [
       "Empty DataFrame\n",
       "Columns: [카테고리, 상품url, 상품명, 별점, 리뷰]\n",
       "Index: []"
      ]
     },
     "execution_count": 7,
     "metadata": {},
     "output_type": "execute_result"
    }
   ],
   "source": [
    "prd_deco = pd.DataFrame(columns = ['카테고리', '상품url', '상품명', '별점', '리뷰'])\n",
    "prd_deco"
   ]
  },
  {
   "cell_type": "code",
   "execution_count": 8,
   "metadata": {
    "collapsed": true
   },
   "outputs": [
    {
     "name": "stderr",
     "output_type": "stream",
     "text": [
      "\n",
      "\n",
      "====== WebDriver manager ======\n",
      "Current google-chrome version is 107.0.5304\n",
      "Get LATEST chromedriver version for 107.0.5304 google-chrome\n",
      "Driver [C:\\Users\\suyeo\\.wdm\\drivers\\chromedriver\\win32\\107.0.5304.62\\chromedriver.exe] found in cache\n"
     ]
    },
    {
     "name": "stdout",
     "output_type": "stream",
     "text": [
      "0\n",
      "1\n",
      "3\n",
      "4\n",
      "6\n",
      "7\n",
      "8\n",
      "9\n",
      "10\n",
      "11\n",
      "12\n",
      "13\n",
      "14\n",
      "15\n",
      "16\n",
      "17\n",
      "18\n",
      "19\n",
      "20\n",
      "21\n",
      "22\n",
      "23\n",
      "24\n",
      "25\n",
      "26\n",
      "27\n",
      "28\n",
      "29\n",
      "30\n",
      "31\n",
      "32\n",
      "33\n",
      "34\n",
      "35\n",
      "36\n",
      "37\n",
      "38\n",
      "39\n",
      "40\n",
      "41\n",
      "42\n",
      "43\n",
      "44\n",
      "45\n",
      "46\n",
      "47\n",
      "48\n",
      "49\n",
      "50\n",
      "51\n",
      "52\n",
      "53\n",
      "54\n",
      "55\n",
      "56\n",
      "57\n",
      "58\n",
      "59\n",
      "60\n",
      "61\n",
      "62\n",
      "63\n",
      "64\n",
      "65\n",
      "66\n",
      "67\n",
      "68\n",
      "69\n",
      "70\n",
      "71\n",
      "72\n",
      "73\n",
      "74\n",
      "75\n",
      "76\n",
      "77\n",
      "78\n",
      "79\n",
      "80\n",
      "81\n",
      "82\n",
      "83\n",
      "84\n",
      "85\n",
      "86\n",
      "87\n",
      "88\n",
      "89\n",
      "90\n",
      "91\n",
      "92\n",
      "93\n",
      "94\n",
      "95\n",
      "96\n",
      "97\n",
      "98\n",
      "99\n"
     ]
    }
   ],
   "source": [
    "warnings.filterwarnings(action='ignore')\n",
    "chrome_options = webdriver.ChromeOptions()\n",
    "driver = webdriver.Chrome(service=Service(ChromeDriverManager().install()), options=chrome_options)\n",
    "driver.implicitly_wait(2)\n",
    "\n",
    "\n",
    "for i in range(start, 100):\n",
    "    driver.get(prd_urls[i])\n",
    "\n",
    "    try:\n",
    "        # 최신순 정렬 클릭\n",
    "        driver.find_element(By.XPATH, '/html/body/div[1]/div/div/div[2]/div[5]/div/div[1]/div/section[2]/div/div[2]/div/div/div[1]/button[2]').click() \n",
    "        time.sleep(2)\n",
    "    except:\n",
    "        continue\n",
    "\n",
    "    review_list = []\n",
    "    rating_list = []\n",
    "\n",
    "    for _ in range(20):\n",
    "\n",
    "        reviews = driver.find_elements(By.CLASS_NAME, 'production-review-item__description') #리뷰 선택\n",
    "        stars = driver.find_elements(By.CLASS_NAME, 'production-review-item__writer__info__total-star') #평점 선택\n",
    "\n",
    "        for review, star in zip(reviews, stars) :\n",
    "            star = star.get_attribute('aria-label')\n",
    "            star = float(re.sub(r'[^0-9,.]', '', star))\n",
    "            \n",
    "            add_row = pd.DataFrame([{'카테고리' : cate,\n",
    "                                     '상품url' : driver.current_url.split('?')[0], \n",
    "                                     '상품명' : driver.find_element(By.XPATH, '/html/body/div[1]/div/div/div[2]/div[1]/div/div[2]/div[1]/h1/div/span').text,\n",
    "                                     '별점' : star,\n",
    "                                     '리뷰' : review.text.strip()}])\n",
    "            prd_deco = prd_deco.append(add_row)\n",
    "\n",
    "        try:    \n",
    "            driver.find_element(By.XPATH, '/html/body/div[1]/div/div/div[2]/div[5]/div/div[1]/div/section[2]/div/ul/li[11]/button').click()\n",
    "            time.sleep(2)      \n",
    "        except:\n",
    "            break\n",
    "\n",
    "    prd_deco.to_csv(f'prd_deco{start}_{i}.csv', index = False)\n",
    "    print(i)\n",
    "    \n",
    "driver.close()\n",
    "\n",
    "prd_deco.to_csv(f'prd_review_{start}_{i}.csv', index = False)"
   ]
  },
  {
   "cell_type": "code",
   "execution_count": 10,
   "metadata": {},
   "outputs": [
    {
     "name": "stdout",
     "output_type": "stream",
     "text": [
      "<class 'pandas.core.frame.DataFrame'>\n",
      "RangeIndex: 9288 entries, 0 to 9287\n",
      "Data columns (total 5 columns):\n",
      " #   Column  Non-Null Count  Dtype  \n",
      "---  ------  --------------  -----  \n",
      " 0   카테고리    9288 non-null   object \n",
      " 1   상품url   9288 non-null   object \n",
      " 2   상품명     9288 non-null   object \n",
      " 3   별점      9288 non-null   float64\n",
      " 4   리뷰      9288 non-null   object \n",
      "dtypes: float64(1), object(4)\n",
      "memory usage: 362.9+ KB\n"
     ]
    }
   ],
   "source": [
    "prd_review_0_99 = pd.read_csv('prd_review_0_99.csv')\n",
    "prd_review_0_99.info()"
   ]
  }
 ],
 "metadata": {
  "kernelspec": {
   "display_name": "Python 3 (ipykernel)",
   "language": "python",
   "name": "python3"
  },
  "language_info": {
   "codemirror_mode": {
    "name": "ipython",
    "version": 3
   },
   "file_extension": ".py",
   "mimetype": "text/x-python",
   "name": "python",
   "nbconvert_exporter": "python",
   "pygments_lexer": "ipython3",
   "version": "3.9.7"
  }
 },
 "nbformat": 4,
 "nbformat_minor": 4
}
