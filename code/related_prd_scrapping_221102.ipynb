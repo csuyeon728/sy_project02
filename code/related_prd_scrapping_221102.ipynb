{
 "cells": [
  {
   "cell_type": "code",
   "execution_count": 15,
   "metadata": {},
   "outputs": [
    {
     "data": {
      "text/html": [
       "<div>\n",
       "<style scoped>\n",
       "    .dataframe tbody tr th:only-of-type {\n",
       "        vertical-align: middle;\n",
       "    }\n",
       "\n",
       "    .dataframe tbody tr th {\n",
       "        vertical-align: top;\n",
       "    }\n",
       "\n",
       "    .dataframe thead th {\n",
       "        text-align: right;\n",
       "    }\n",
       "</style>\n",
       "<table border=\"1\" class=\"dataframe\">\n",
       "  <thead>\n",
       "    <tr style=\"text-align: right;\">\n",
       "      <th></th>\n",
       "      <th>id</th>\n",
       "      <th>url</th>\n",
       "    </tr>\n",
       "  </thead>\n",
       "  <tbody>\n",
       "    <tr>\n",
       "      <th>0</th>\n",
       "      <td>0</td>\n",
       "      <td>https://ohou.se/projects/126917/detail?affect_...</td>\n",
       "    </tr>\n",
       "    <tr>\n",
       "      <th>1</th>\n",
       "      <td>1</td>\n",
       "      <td>https://ohou.se/projects/126600/detail?affect_...</td>\n",
       "    </tr>\n",
       "    <tr>\n",
       "      <th>2</th>\n",
       "      <td>2</td>\n",
       "      <td>https://ohou.se/projects/123056/detail?affect_...</td>\n",
       "    </tr>\n",
       "    <tr>\n",
       "      <th>3</th>\n",
       "      <td>3</td>\n",
       "      <td>https://ohou.se/projects/116945/detail?affect_...</td>\n",
       "    </tr>\n",
       "    <tr>\n",
       "      <th>4</th>\n",
       "      <td>4</td>\n",
       "      <td>https://ohou.se/projects/127436/detail?affect_...</td>\n",
       "    </tr>\n",
       "    <tr>\n",
       "      <th>...</th>\n",
       "      <td>...</td>\n",
       "      <td>...</td>\n",
       "    </tr>\n",
       "    <tr>\n",
       "      <th>4431</th>\n",
       "      <td>4687</td>\n",
       "      <td>https://ohou.se/projects/19671/detail?affect_t...</td>\n",
       "    </tr>\n",
       "    <tr>\n",
       "      <th>4432</th>\n",
       "      <td>4688</td>\n",
       "      <td>https://ohou.se/projects/18922/detail?affect_t...</td>\n",
       "    </tr>\n",
       "    <tr>\n",
       "      <th>4433</th>\n",
       "      <td>4689</td>\n",
       "      <td>https://ohou.se/projects/20141/detail?affect_t...</td>\n",
       "    </tr>\n",
       "    <tr>\n",
       "      <th>4434</th>\n",
       "      <td>4690</td>\n",
       "      <td>https://ohou.se/projects/20628/detail?affect_t...</td>\n",
       "    </tr>\n",
       "    <tr>\n",
       "      <th>4435</th>\n",
       "      <td>4691</td>\n",
       "      <td>https://ohou.se/projects/19720/detail?affect_t...</td>\n",
       "    </tr>\n",
       "  </tbody>\n",
       "</table>\n",
       "<p>4436 rows × 2 columns</p>\n",
       "</div>"
      ],
      "text/plain": [
       "        id                                                url\n",
       "0        0  https://ohou.se/projects/126917/detail?affect_...\n",
       "1        1  https://ohou.se/projects/126600/detail?affect_...\n",
       "2        2  https://ohou.se/projects/123056/detail?affect_...\n",
       "3        3  https://ohou.se/projects/116945/detail?affect_...\n",
       "4        4  https://ohou.se/projects/127436/detail?affect_...\n",
       "...    ...                                                ...\n",
       "4431  4687  https://ohou.se/projects/19671/detail?affect_t...\n",
       "4432  4688  https://ohou.se/projects/18922/detail?affect_t...\n",
       "4433  4689  https://ohou.se/projects/20141/detail?affect_t...\n",
       "4434  4690  https://ohou.se/projects/20628/detail?affect_t...\n",
       "4435  4691  https://ohou.se/projects/19720/detail?affect_t...\n",
       "\n",
       "[4436 rows x 2 columns]"
      ]
     },
     "execution_count": 15,
     "metadata": {},
     "output_type": "execute_result"
    }
   ],
   "source": [
    "import pandas as pd\n",
    "df1 = pd.read_csv('deco_plant.csv')\n",
    "df1"
   ]
  },
  {
   "cell_type": "markdown",
   "metadata": {},
   "source": [
    "- 김민지 [0:700]\n",
    "\n",
    "- 박유정 [700:1400]\n",
    "\n",
    "- 이소현 [1400:2100]\n",
    "\n",
    "- 이지혜 [2100:2800]\n",
    "\n",
    "- 최수연 [2800:3500]\n",
    "\n",
    "- 송나현 [3500:]"
   ]
  },
  {
   "cell_type": "code",
   "execution_count": 18,
   "metadata": {},
   "outputs": [],
   "source": [
    "start = 2100\n",
    "end = 2101"
   ]
  },
  {
   "cell_type": "code",
   "execution_count": 19,
   "metadata": {},
   "outputs": [
    {
     "data": {
      "text/html": [
       "<div>\n",
       "<style scoped>\n",
       "    .dataframe tbody tr th:only-of-type {\n",
       "        vertical-align: middle;\n",
       "    }\n",
       "\n",
       "    .dataframe tbody tr th {\n",
       "        vertical-align: top;\n",
       "    }\n",
       "\n",
       "    .dataframe thead th {\n",
       "        text-align: right;\n",
       "    }\n",
       "</style>\n",
       "<table border=\"1\" class=\"dataframe\">\n",
       "  <thead>\n",
       "    <tr style=\"text-align: right;\">\n",
       "      <th></th>\n",
       "      <th>id</th>\n",
       "      <th>url</th>\n",
       "    </tr>\n",
       "  </thead>\n",
       "  <tbody>\n",
       "  </tbody>\n",
       "</table>\n",
       "</div>"
      ],
      "text/plain": [
       "Empty DataFrame\n",
       "Columns: [id, url]\n",
       "Index: []"
      ]
     },
     "execution_count": 19,
     "metadata": {},
     "output_type": "execute_result"
    }
   ],
   "source": [
    "df1 = df1[start:end]\n",
    "df1"
   ]
  },
  {
   "cell_type": "code",
   "execution_count": 20,
   "metadata": {},
   "outputs": [],
   "source": [
    "df_similar = pd.DataFrame(columns = ['id', 'url', 'photo_id', '상품url'])"
   ]
  },
  {
   "cell_type": "code",
   "execution_count": 21,
   "metadata": {},
   "outputs": [],
   "source": [
    "# 클릭할 영역 찾기\n",
    "def find_area_and_elements(xpath, class_name):\n",
    "    clickable_list = driver.find_element(By.XPATH, xpath)\n",
    "    # 일단 해당 영역으로 마우스(커서)를 이동시킴\n",
    "    action = webdriver.ActionChains(driver)\n",
    "    action.move_to_element(clickable_list).perform()\n",
    "\n",
    "    items = clickable_list.find_elements(By.CLASS_NAME, 'css-1nqec2d')\n",
    "    return items"
   ]
  },
  {
   "cell_type": "code",
   "execution_count": 22,
   "metadata": {},
   "outputs": [
    {
     "name": "stderr",
     "output_type": "stream",
     "text": [
      "\n",
      "\n",
      "====== WebDriver manager ======\n",
      "Current google-chrome version is 107.0.5304\n",
      "Get LATEST chromedriver version for 107.0.5304 google-chrome\n",
      "Driver [C:\\Users\\suyeo\\.wdm\\drivers\\chromedriver\\win32\\107.0.5304.62\\chromedriver.exe] found in cache\n"
     ]
    }
   ],
   "source": [
    "from selenium import webdriver\n",
    "from bs4 import BeautifulSoup as BS\n",
    "from selenium.webdriver.chrome.service import Service\n",
    "from webdriver_manager.chrome import ChromeDriverManager\n",
    "from selenium.webdriver.common.by import By # import 문 추가\n",
    "import pandas as pd\n",
    "import warnings\n",
    "\n",
    "warnings.filterwarnings(action='ignore')\n",
    "\n",
    "chrome_options = webdriver.ChromeOptions()\n",
    "driver = webdriver.Chrome(service=Service(ChromeDriverManager().install()), options=chrome_options)\n",
    "# 페이지가 모두 로드될 때까지 10초 기다려주도록 처리 (암시적)\n",
    "driver.implicitly_wait(10)\n",
    "\n",
    "for idx in df1.index:\n",
    "    url = df1['url'].loc[idx]\n",
    "    driver.get(url)\n",
    "\n",
    "    html = driver.page_source\n",
    "    soup = BS(html, 'html.parser')\n",
    "    contents = soup.find_all(['a', 'div'], ['project-detail-image-block__link', 'bpd-view-heading-block'])\n",
    "\n",
    "    for i, content in enumerate(contents):\n",
    "        try:\n",
    "            text = content.text\n",
    "        except:\n",
    "            continue\n",
    "        else:\n",
    "            if '3초' in text:\n",
    "                break\n",
    "\n",
    "\n",
    "    for a_tag in contents[i + 1:]:\n",
    "        try:\n",
    "            link = a_tag.attrs['href']\n",
    "        except:\n",
    "            break\n",
    "        else:\n",
    "            driver.get('https://ohou.se' + link)\n",
    "            xpath = '/html/body/div[1]/div/div/div[2]/div[1]/div/div[2]/div[2]'\n",
    "            class_name = 'css-1nqec2d'\n",
    "            items = find_area_and_elements(xpath, class_name)\n",
    "            for i in range(0, len(items)):\n",
    "                if i == 7:\n",
    "                    break\n",
    "                \n",
    "                items[i].click()\n",
    "                prd_url = driver.current_url\n",
    "                \n",
    "                add_row = pd.DataFrame([{'id' : df1['id'].loc[idx], \n",
    "                                         'url' : url,\n",
    "                                         'photo_id' : link.split('/')[-1],\n",
    "                                         '상품url' : prd_url}])\n",
    "                df_similar = df_similar.append(add_row)\n",
    "                \n",
    "                driver.back()\n",
    "                items = find_area_and_elements(xpath, class_name)\n",
    "    \n",
    "    if (idx + 1) % 50 == 0:\n",
    "        df_similar.to_csv(f'df_similar_{start}_{idx}.csv', index = False)\n",
    "        print(idx)\n",
    "\n",
    "\n",
    "driver.close()\n",
    "\n",
    "df_similar.to_csv(f'df_similar_{start}_{end}.csv', index = False)"
   ]
  },
  {
   "cell_type": "code",
   "execution_count": 7,
   "metadata": {},
   "outputs": [],
   "source": [
    "df_similar.to_csv(f'df_similar_{start}_{end}.csv', index = False)"
   ]
  }
 ],
 "metadata": {
  "kernelspec": {
   "display_name": "Python 3 (ipykernel)",
   "language": "python",
   "name": "python3"
  },
  "language_info": {
   "codemirror_mode": {
    "name": "ipython",
    "version": 3
   },
   "file_extension": ".py",
   "mimetype": "text/x-python",
   "name": "python",
   "nbconvert_exporter": "python",
   "pygments_lexer": "ipython3",
   "version": "3.9.7"
  }
 },
 "nbformat": 4,
 "nbformat_minor": 4
}
